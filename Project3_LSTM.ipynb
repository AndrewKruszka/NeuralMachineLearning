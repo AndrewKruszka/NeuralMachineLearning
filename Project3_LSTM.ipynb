{
  "nbformat": 4,
  "nbformat_minor": 0,
  "metadata": {
    "colab": {
      "provenance": [],
      "authorship_tag": "ABX9TyNX+/M1Pti6QzOdulOvRd3E",
      "include_colab_link": true
    },
    "kernelspec": {
      "name": "python3",
      "display_name": "Python 3"
    },
    "language_info": {
      "name": "python"
    }
  },
  "cells": [
    {
      "cell_type": "markdown",
      "metadata": {
        "id": "view-in-github",
        "colab_type": "text"
      },
      "source": [
        "<a href=\"https://colab.research.google.com/github/AndrewKruszka/NeuralMachineLearning/blob/main/Project3_LSTM.ipynb\" target=\"_parent\"><img src=\"https://colab.research.google.com/assets/colab-badge.svg\" alt=\"Open In Colab\"/></a>"
      ]
    },
    {
      "cell_type": "markdown",
      "source": [
        "# Project 3: Sleep Stage Classification using Local Field Potentials (LFPs) with LSTM\n",
        "\n",
        "**Author:** Andrew Kruszka\n",
        "\n",
        "**Introduction:**\n",
        "\n",
        "This project aims to develop a deep learning model to classify sleep stages based on Local Field Potential (LFP) data using a Long Short-Term Memory (LSTM) network. LFPs are electrical recordings of brain activity that provide valuable insights into sleep architecture. We will be utilizing data from three different sources (Part1SubjectHB10.h5, Part2SubjectHB13.h5, and Rat08-20130711_017.h5), which likely contain recordings of LFP signals during different sleep stages.\n",
        "\n",
        "**Objective:**\n",
        "\n",
        "The primary goal is to build and train an LSTM model that can accurately classify raw LFP segments into two distinct sleep stages: NREM (Non-Rapid Eye Movement) and WAKE. This classification will be achieved by leveraging the LSTM's ability to learn temporal dependencies and patterns within the LFP data that are characteristic of each sleep stage.\n",
        "\n",
        "**Methodology:**\n",
        "\n",
        "The project will involve the following key steps:\n",
        "\n",
        "1. **Data Loading and Preprocessing:**\n",
        "   - Load raw LFP data from the provided HDF5 files.\n",
        "   - Convert the data into a format suitable for the LSTM model (e.g., creating sequences of data points).\n",
        "   - Split the data into training and validation sets.\n",
        "2. **Model Development:**\n",
        "   - Design and implement an LSTM network for classification.\n",
        "   - Define the architecture of the LSTM, including the number of layers, hidden units, and activation functions.\n",
        "3. **Model Training and Evaluation:**\n",
        "   - Train the LSTM model using the preprocessed LFP data and corresponding sleep stage labels.\n",
        "   - Evaluate model performance using metrics such as accuracy, loss, and potentially precision and recall.\n",
        "4. **Visualization and Interpretation:**\n",
        "   - Visualize the training and validation loss and accuracy curves to monitor the model's learning progress.\n",
        "   - Analyze the model's predictions and potentially interpret its learned features to gain insights into sleep stage classification."
      ],
      "metadata": {
        "id": "UesXGAIfqQuF"
      }
    },
    {
      "source": [
        "import h5py  # For reading HDF5 files\n",
        "import numpy as np  # For numerical operations\n",
        "import torch  # PyTorch core library\n",
        "import torch.nn as nn  # Neural network modules\n",
        "import torch.optim as optim  # Optimization algorithms\n",
        "from torch.utils.data import DataLoader, Dataset, TensorDataset, random_split  # Data loading utilities\n",
        "from scipy import signal\n",
        "import matplotlib.pyplot as plt"
      ],
      "cell_type": "code",
      "metadata": {
        "id": "meWXfGKuqPLa"
      },
      "execution_count": 4,
      "outputs": []
    },
    {
      "cell_type": "markdown",
      "source": [
        "## Data Loading and Preprocessing\n",
        "\n",
        "This section downloads and processes LFP signal data from three HDF5 files. Each file contains two labeled brain states: `NREM` (label 0) and `WAKE` (label 1), with multiple clips under each group.\n",
        "\n",
        "A helper function `load_file(filename)` reads all clips from the specified file, assigns labels based on the state, and ensures each clip is a fixed length by truncating or padding as needed.\n",
        "\n",
        "After loading data from all three files:\n",
        "- Data and labels are stored in NumPy arrays.\n",
        "- The input features `X` and target labels `y` are converted to PyTorch tensors.\n",
        "- A custom `LFPDataset` class is defined to wrap the tensors for training.\n",
        "- A `DataLoader` is created to feed the data in shuffled mini-batches for model training.\n"
      ],
      "metadata": {
        "id": "F1J5X-vByrZq"
      }
    },
    {
      "cell_type": "code",
      "source": [
        "# Download the files\n",
        "!wget -q \"https://github.com/AndrewKruszka/NeuralMachineLearning/raw/refs/heads/main/Part1SubjectHB10.h5\"\n",
        "!wget -q \"https://github.com/AndrewKruszka/NeuralMachineLearning/raw/refs/heads/main/Part2SubjectHB13.h5\"\n",
        "!wget -q \"https://github.com/AndrewKruszka/NeuralMachineLearning/raw/refs/heads/main/Rat08-20130711_017.h5\"\n",
        "\n",
        "# Initialize lists for all data and labels\n",
        "data = []\n",
        "labels = []\n",
        "\n",
        "# Function to load labeled data from a file\n",
        "def load_file(filename):\n",
        "    with h5py.File(filename, 'r') as f:\n",
        "        for state in ['NREM', 'WAKE']:\n",
        "            label = 0 if state == 'NREM' else 1\n",
        "            if state in f:\n",
        "                for key in f[state].keys():\n",
        "                    clip = f[state][key][:]\n",
        "                    # Pad or truncate clips to a fixed length\n",
        "                    desired_length = 40001  # Replace with your desired length\n",
        "                    clip = clip[:desired_length]  # Truncate if longer\n",
        "                    clip = np.pad(clip, (0, desired_length - len(clip)), 'constant')  # Pad if shorter\n",
        "                    data.append(clip)\n",
        "                    labels.append(label)\n",
        "\n",
        "# Load from all three files\n",
        "load_file('Part1SubjectHB10.h5')\n",
        "load_file('Part2SubjectHB13.h5')\n",
        "load_file('Rat08-20130711_017.h5')\n",
        "\n",
        "# Convert to NumPy arrays\n",
        "X = np.array(data)\n",
        "y = np.array(labels)\n",
        "\n",
        "# Convert and reshape to PyTorch tensors for LSTM\n",
        "X_lstm = torch.tensor(X, dtype=torch.float32)\n",
        "y_lstm = torch.tensor(y, dtype=torch.long)\n",
        "\n",
        "# Reshape for LSTM: (batch_size, seq_len, input_size)\n",
        "X_lstm = X_lstm.view(X_lstm.shape[0], 1, X_lstm.shape[1])\n",
        "\n",
        "# Create dataset and split\n",
        "dataset_lstm = TensorDataset(X_lstm, y_lstm)\n",
        "train_size = int(0.8 * len(dataset_lstm))\n",
        "val_size = len(dataset_lstm) - train_size\n",
        "train_lstm, val_lstm = random_split(dataset_lstm, [train_size, val_size])\n",
        "\n",
        "# Create data loaders\n",
        "train_loader_lstm = DataLoader(train_lstm, batch_size=32, shuffle=True)\n",
        "val_loader_lstm = DataLoader(val_lstm, batch_size=32) # Fixed typo here"
      ],
      "metadata": {
        "id": "1oD7LUFhqjX7"
      },
      "execution_count": 5,
      "outputs": []
    },
    {
      "cell_type": "markdown",
      "source": [
        "## Feature Extraction from LFP Data\n",
        "\n",
        "This section defines a function `preprocess_data` that transforms raw LFP signals into a matrix of features suitable for machine learning models.\n",
        "\n",
        "### Function Overview\n",
        "\n",
        "`preprocess_data(data, clip_length, sampling_rate)` performs the following steps:\n",
        "\n",
        "1. **Clip Segmentation**  \n",
        "   The raw signal is divided into fixed-length segments based on the specified clip duration (in seconds) and the sampling rate (in Hz).\n",
        "\n",
        "2. **Feature Extraction per Clip**  \n",
        "   For each clip, a set of features is computed:\n",
        "   - Basic statistics: mean, standard deviation, skewness, and kurtosis\n",
        "   - Power Spectral Density (PSD): frequency content below 50 Hz using Welch’s method\n",
        "   - Band power: total power in a specified frequency band (e.g., 10–20 Hz)\n",
        "\n",
        "3. **Feature Normalization**  \n",
        "   All features are standardized using z-score normalization.\n",
        "\n",
        "4. **Return Values**  \n",
        "   Returns a 2D NumPy array `X` where each row corresponds to a clip and each column is a feature. Labels `y` must be manually specified depending on the source of the data.\n",
        "\n",
        "This function is useful for converting raw neural signals into structured input for classification models.\n"
      ],
      "metadata": {
        "id": "p1ZYjJkGz-Gu"
      }
    },
    {
      "cell_type": "code",
      "source": [
        "import numpy as np\n",
        "from scipy import signal\n",
        "\n",
        "def preprocess_data(data, clip_length, sampling_rate):\n",
        "    \"\"\"\n",
        "    Preprocesses raw LFP data into clips with extracted features.\n",
        "\n",
        "    Args:\n",
        "        data: Raw LFP signal data.\n",
        "        clip_length: Length of each clip in seconds.\n",
        "        sampling_rate: Sampling rate of the data in Hz.\n",
        "\n",
        "    Returns:\n",
        "        X: Feature matrix (num_clips, num_features).\n",
        "        y: Label vector (num_clips,).\n",
        "    \"\"\"\n",
        "\n",
        "    # Calculate clip size in samples\n",
        "    clip_size = int(clip_length * sampling_rate)\n",
        "\n",
        "    # Segment data into clips\n",
        "    num_clips = len(data) // clip_size\n",
        "    clips = [data[i * clip_size:(i + 1) * clip_size] for i in range(num_clips)]\n",
        "\n",
        "    # Extract features from each clip\n",
        "    X = []\n",
        "    for clip in clips:\n",
        "        # 1. Basic statistics\n",
        "        features = [np.mean(clip), np.std(clip), signal.skew(clip), signal.kurtosis(clip)]\n",
        "\n",
        "        # 2. PSD features (example with low frequency resolution)\n",
        "        frequencies, psd = signal.welch(clip, fs=sampling_rate, nperseg=clip_size // 10)\n",
        "        features.extend(psd[frequencies < 50])  # Select frequencies below 50 Hz\n",
        "\n",
        "        # 3. Bandpass filtering and power calculation (example band: 10-20 Hz)\n",
        "        bandpass_filtered = signal.sosfiltfilt(signal.butter(4, [10, 20], 'bandpass', fs=sampling_rate), clip)\n",
        "        features.append(np.sum(bandpass_filtered**2))  # Band power\n",
        "\n",
        "        X.append(features)\n",
        "\n",
        "    X = np.array(X)\n",
        "\n",
        "    # ... (Add labels based on your data format)\n",
        "    # Example: y = np.zeros(num_clips)  # Assume all clips belong to state 0\n",
        "\n",
        "    # Normalize features (e.g., using z-score)\n",
        "    X = (X - np.mean(X, axis=0)) / np.std(X, axis=0)\n",
        "\n",
        "    return X, y"
      ],
      "metadata": {
        "id": "NWQDXFkPq11F"
      },
      "execution_count": 6,
      "outputs": []
    },
    {
      "cell_type": "markdown",
      "source": [
        "## Fully Connected Neural Network (FCNN)\n",
        "\n",
        "This simple feedforward neural network consists of:\n",
        "\n",
        "- **Input Layer**: Projects input features to a hidden layer\n",
        "- **ReLU Activation**: Introduces non-linearity\n",
        "- **Output Layer**: Maps hidden features to class scores (e.g., NREM vs WAKE)\n",
        "\n",
        "It's designed for structured input like statistical or PSD-based features extracted from LFP clips.\n"
      ],
      "metadata": {
        "id": "sF7TqIDn_2h7"
      }
    },
    {
      "cell_type": "code",
      "source": [
        "class LFP_LSTM(nn.Module):\n",
        "    def __init__(self, input_size, hidden_size, num_layers, num_classes):\n",
        "        super(LFP_LSTM, self).__init__()\n",
        "        self.hidden_size = hidden_size\n",
        "        self.num_layers = num_layers\n",
        "        self.lstm = nn.LSTM(input_size, hidden_size, num_layers, batch_first=True)\n",
        "        self.fc = nn.Linear(hidden_size, num_classes)\n",
        "\n",
        "    def forward(self, x):\n",
        "        # Set initial hidden and cell states\n",
        "        h0 = torch.zeros(self.num_layers, x.size(0), self.hidden_size).to(x.device)\n",
        "        c0 = torch.zeros(self.num_layers, x.size(0), self.hidden_size).to(x.device)\n",
        "\n",
        "        # Forward propagate LSTM\n",
        "        out, _ = self.lstm(x, (h0, c0))  # out: tensor of shape (batch_size, seq_length, hidden_size)\n",
        "\n",
        "        # Decode the hidden state of the last time step\n",
        "        out = self.fc(out[:, -1, :])\n",
        "        return out"
      ],
      "metadata": {
        "id": "g-TakIF1q5DB"
      },
      "execution_count": 7,
      "outputs": []
    },
    {
      "cell_type": "markdown",
      "source": [
        "## Model Training and Evaluation\n",
        "\n",
        "This section trains a fully connected neural network to classify LFP clips as either `NREM` or `WAKE`.\n",
        "\n",
        "### Setup\n",
        "\n",
        "- **Hyperparameters** such as input size, hidden layer size, learning rate, and number of epochs are defined.\n",
        "- The dataset is split into training (80%) and validation (20%) subsets using `random_split`.\n",
        "\n",
        "### Training\n",
        "\n",
        "- The model is trained using the Adam optimizer and Cross-Entropy loss.\n",
        "- For each epoch, the model:\n",
        "  - Performs forward and backward passes on the training data\n",
        "  - Tracks training loss across mini-batches\n",
        "\n",
        "### Validation\n",
        "\n",
        "- After each epoch, the model is evaluated on the validation set.\n",
        "- Validation loss and classification accuracy are computed without gradient updates.\n",
        "- Accuracy is measured as the percentage of correctly predicted labels.\n",
        "\n",
        "### Visualization\n",
        "\n",
        "- After training, two plots are generated:\n",
        "  - Training and validation loss over epochs\n",
        "  - Validation accuracy over epochs\n",
        "\n",
        "These plots help monitor the learning progress and identify potential overfitting or underfitting during training.\n"
      ],
      "metadata": {
        "id": "wJIcDD7K0MdS"
      }
    },
    {
      "cell_type": "code",
      "source": [
        "# --- LSTM Training and Evaluation Loop ---\n",
        "\n",
        "# Assuming train_loader_lstm and val_loader_lstm are defined from Step 2\n",
        "import matplotlib.pyplot as plt\n",
        "\n",
        "# Model, optimizer, loss\n",
        "input_size = X_lstm.shape[2]  # Input size for LSTM\n",
        "hidden_size = 128  # Number of features in the hidden state\n",
        "num_layers = 2  # Number of recurrent layers\n",
        "num_classes = 2  # Number of output classes (NREM, WAKE)\n",
        "model_lstm = LFP_LSTM(input_size, hidden_size, num_layers, num_classes)  # Instantiate the LSTM model\n",
        "optimizer = optim.Adam(model_lstm.parameters(), lr=0.001)\n",
        "criterion = nn.CrossEntropyLoss()\n",
        "\n",
        "# Store losses and accuracy\n",
        "lstm_train_loss = []\n",
        "lstm_val_loss = []\n",
        "lstm_val_acc = []\n",
        "\n",
        "# Training loop\n",
        "for epoch in range(10):  # Adjust the number of epochs as needed\n",
        "    model_lstm.train()  # Set the model to training mode\n",
        "    batch_losses = []\n",
        "    for data, target in train_loader_lstm:\n",
        "        optimizer.zero_grad()  # Reset gradients\n",
        "        output = model_lstm(data)  # Forward pass\n",
        "        loss = criterion(output, target)  # Calculate loss\n",
        "        loss.backward()  # Backpropagate gradients\n",
        "        optimizer.step()  # Update model weights\n",
        "        batch_losses.append(loss.item())  # Store batch loss\n",
        "    train_loss = sum(batch_losses) / len(batch_losses)  # Calculate average epoch loss\n",
        "    lstm_train_loss.append(train_loss)  # Store training loss\n",
        "\n",
        "    # Validation\n",
        "    model_lstm.eval()  # Set the model to evaluation mode\n",
        "    val_loss = 0\n",
        "    correct = 0\n",
        "    with torch.no_grad():  # Disable gradient calculation during validation\n",
        "        for data, target in val_loader_lstm:\n",
        "            output = model_lstm(data)\n",
        "            val_loss += criterion(output, target).item()  # Accumulate validation loss\n",
        "            pred = output.argmax(dim=1, keepdim=True)  # Get predicted class\n",
        "            correct += pred.eq(target.view_as(pred)).sum().item()  # Count correct predictions\n",
        "\n",
        "    val_loss /= len(val_loader_lstm)  # Calculate average validation loss\n",
        "    accuracy = 100. * correct / len(val_loader_lstm.dataset)  # Calculate accuracy\n",
        "    lstm_val_loss.append(val_loss)  # Store validation loss\n",
        "    lstm_val_acc.append(accuracy)  # Store accuracy\n",
        "\n",
        "    print(f\"[LSTM] Epoch {epoch+1}/10 | Train Loss: {train_loss:.4f} | Val Loss: {val_loss:.4f} | Accuracy: {accuracy:.2f}%\")\n",
        "\n",
        "# Plotting the training and validation curves\n",
        "plt.figure(figsize=(12, 5))\n",
        "\n",
        "plt.subplot(1, 2, 1)\n",
        "plt.plot(lstm_train_loss, label='Train Loss')\n",
        "plt.plot(lstm_val_loss, label='Val Loss')\n",
        "plt.title('LSTM Loss')\n",
        "plt.xlabel('Epoch')\n",
        "plt.ylabel('Loss')\n",
        "plt.legend()\n",
        "\n",
        "plt.subplot(1, 2, 2)\n",
        "plt.plot(lstm_val_acc, label='Val Accuracy')\n",
        "plt.title('LSTM Accuracy')\n",
        "plt.xlabel('Epoch')\n",
        "plt.ylabel('Accuracy (%)')\n",
        "plt.legend()\n",
        "\n",
        "plt.tight_layout()\n",
        "plt.show()"
      ],
      "metadata": {
        "colab": {
          "base_uri": "https://localhost:8080/",
          "height": 701
        },
        "id": "ZKSqc1fNq59N",
        "outputId": "762feafb-3202-4150-89f1-0d4e01399e8b"
      },
      "execution_count": 8,
      "outputs": [
        {
          "output_type": "stream",
          "name": "stdout",
          "text": [
            "[LSTM] Epoch 1/10 | Train Loss: 0.6938 | Val Loss: 0.7038 | Accuracy: 38.46%\n",
            "[LSTM] Epoch 2/10 | Train Loss: 0.6808 | Val Loss: 0.7074 | Accuracy: 48.72%\n",
            "[LSTM] Epoch 3/10 | Train Loss: 0.6695 | Val Loss: 0.7147 | Accuracy: 51.28%\n",
            "[LSTM] Epoch 4/10 | Train Loss: 0.6585 | Val Loss: 0.7211 | Accuracy: 43.59%\n",
            "[LSTM] Epoch 5/10 | Train Loss: 0.6444 | Val Loss: 0.7298 | Accuracy: 43.59%\n",
            "[LSTM] Epoch 6/10 | Train Loss: 0.6274 | Val Loss: 0.7421 | Accuracy: 41.03%\n",
            "[LSTM] Epoch 7/10 | Train Loss: 0.6092 | Val Loss: 0.7530 | Accuracy: 46.15%\n",
            "[LSTM] Epoch 8/10 | Train Loss: 0.5873 | Val Loss: 0.7659 | Accuracy: 48.72%\n",
            "[LSTM] Epoch 9/10 | Train Loss: 0.5627 | Val Loss: 0.7833 | Accuracy: 46.15%\n",
            "[LSTM] Epoch 10/10 | Train Loss: 0.5354 | Val Loss: 0.8113 | Accuracy: 46.15%\n"
          ]
        },
        {
          "output_type": "display_data",
          "data": {
            "text/plain": [
              "<Figure size 1200x500 with 2 Axes>"
            ],
            "image/png": "[encoded data removed]"
          },
          "metadata": {}
        }
      ]
    },
    {
      "cell_type": "markdown",
      "source": [
        "## Training and Validation Results (LSTM)\n",
        "\n",
        "The LSTM model was trained for 10 epochs to classify brain states (NREM vs WAKE) using the raw LFP signal as input. Below is a summary of the observed performance:\n",
        "\n",
        "### Loss Trends\n",
        "- **Training loss:** The training loss gradually decreased from 0.6938 in the first epoch to 0.5354 in the final epoch. This indicates that the model is learning and fitting the training data progressively better.\n",
        "- **Validation loss:** The validation loss, however, steadily increased from 0.7038 to 0.8113 across the epochs. This suggests that the model is overfitting to the training data and not generalizing well to unseen data.\n",
        "\n",
        "### Accuracy Trends\n",
        "- **Validation accuracy:** The validation accuracy fluctuated throughout the training process, reaching its highest value of 51.28% in the 3rd Epoch.\n",
        "- The highest accuracy achieved was 51.28% at epoch 3. After this point, the accuracy remained around 46.15% for the remaining epochs.\n",
        "- Overall, the accuracy remained relatively low, indicating a limited ability of the model to effectively distinguish between the two brain states (NREM and WAKE). The model performs only slightly better than random chance (50%).\n",
        "\n",
        "### Interpretation\n",
        "- The increasing validation loss alongside the decreasing training loss, and fluctuating accuracy, clearly indicates overfitting. The model is learning patterns specific to the training data but fails to generalize those patterns to new, unseen data.\n",
        "- Possible reasons for the observed performance include:\n",
        "    - The inherent complexity and noise present in the raw LFP signal might make it challenging for the LSTM to extract relevant features for accurate classification.\n",
        "    - The chosen LSTM architecture and hyperparameters might not be optimal for this specific task.\n",
        "    - The limited amount of training data could also contribute to overfitting.\n",
        "\n",
        "### Potential Improvements\n",
        "- To improve the model's performance, consider the following:\n",
        "    - **Adjusting model capacity:** Experiment with different hidden sizes and numbers of layers in the LSTM to find a better balance between capacity and generalization.\n",
        "    - **Regularization:** Apply techniques like dropout or weight decay to reduce overfitting by preventing the model from relying too heavily on specific features in the training data.\n",
        "    - **Data augmentation:** Generating synthetic data or applying transformations to the existing data could increase the training set size and improve the model's ability to generalize.\n",
        "    - **Hyperparameter tuning:** Optimize the learning rate, batch size, and other hyperparameters to find the best settings for this task."
      ],
      "metadata": {
        "id": "tWizqogr1tR3"
      }
    }
  ]
}