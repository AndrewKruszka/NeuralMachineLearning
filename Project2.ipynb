{
  "nbformat": 4,
  "nbformat_minor": 0,
  "metadata": {
    "colab": {
      "provenance": [],
      "authorship_tag": "ABX9TyOGuDODJSrElHOPeV7wYZDc",
      "include_colab_link": true
    },
    "kernelspec": {
      "name": "python3",
      "display_name": "Python 3"
    },
    "language_info": {
      "name": "python"
    }
  },
  "cells": [
    {
      "cell_type": "markdown",
      "metadata": {
        "id": "view-in-github",
        "colab_type": "text"
      },
      "source": [
        "<a href=\"https://colab.research.google.com/github/AndrewKruszka/NeuralMachineLearning/blob/main/Project2.ipynb\" target=\"_parent\"><img src=\"https://colab.research.google.com/assets/colab-badge.svg\" alt=\"Open In Colab\"/></a>"
      ]
    },
    {
      "cell_type": "code",
      "execution_count": null,
      "metadata": {
        "id": "Hd5YXf4vNpOF"
      },
      "outputs": [],
      "source": [
        "import pandas as pd\n",
        "\n",
        "# File paths\n",
        "file_paths = {\n",
        "    \"Neuron 1 (ec012ec.187.res.1)\": \"/mnt/data/ec012ec.187.res.1\",\n",
        "    \"Neuron 2 (ec012ec.375.res.1)\": \"/mnt/data/ec012ec.375.res.1\",\n",
        "    \"Neuron 3 (ec016.457.res.2)\": \"/mnt/data/ec016.457.res.2\"\n",
        "}\n",
        "\n",
        "# Sampling rate: 20 kHz → Each time step = 0.05 ms\n",
        "time_step_ms = 0.05\n",
        "\n",
        "# Load the data and convert spike times to milliseconds\n",
        "spike_data = {}\n",
        "for neuron, path in file_paths.items():\n",
        "    spike_times = pd.read_csv(path, header=None, names=[\"Time Index\"])\n",
        "    spike_times[\"Time (ms)\"] = spike_times[\"Time Index\"] * time_step_ms\n",
        "    spike_data[neuron] = spike_times\n",
        "\n",
        "# Display the first few rows of each file\n",
        "for neuron, df in spike_data.items():\n",
        "    print(f\"First 5 rows for {neuron}:\")\n",
        "    print(df.head(), \"\\n\")\n",
        "\n",
        "# Summary statistics\n",
        "summary_stats = {\n",
        "    \"Neuron\": [],\n",
        "    \"Total Spikes\": [],\n",
        "    \"Start Time (ms)\": [],\n",
        "    \"End Time (ms)\": [],\n",
        "    \"Duration (s)\": []\n",
        "}\n",
        "\n",
        "for neuron, df in spike_data.items():\n",
        "    summary_stats[\"Neuron\"].append(neuron)\n",
        "    summary_stats[\"Total Spikes\"].append(len(df))\n",
        "    summary_stats[\"Start Time (ms)\"].append(df[\"Time (ms)\"].min())\n",
        "    summary_stats[\"End Time (ms)\"].append(df[\"Time (ms)\"].max())\n",
        "    summary_stats[\"Duration (s)\"].append((df[\"Time (ms)\"].max() - df[\"Time (ms)\"].min()) / 1000)\n",
        "\n",
        "# Convert summary to DataFrame and display\n",
        "summary_df = pd.DataFrame(summary_stats)\n",
        "import ace_tools as tools\n",
        "tools.display_dataframe_to_user(name=\"Spike Data Summary\", dataframe=summary_df)\n"
      ]
    }
  ]
}